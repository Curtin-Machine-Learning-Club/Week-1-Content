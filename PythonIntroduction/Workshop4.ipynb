{
 "cells": [
  {
   "cell_type": "markdown",
   "metadata": {},
   "source": [
    "# NOTE: things required b4 this workshop:\n",
    "- if/else\n",
    "- loops\n",
    "- user input\n",
    "- functions\n",
    "\n",
    "# Workshop 4?\n",
    "## Exception handling\n",
    "When we ask the user to input an integer but the enter text, we see error messages that look something like this:\n",
    "\n",
    "ValueError: invalid literal for int() with base 10: 'hj'\n",
    "\n",
    "Instead of allowing this to crash our program there is a way to catch these errors so our program can continue!\n",
    "The method used to catch errors is called exception handling. \n",
    "When we expect part of the code to throw an error, or an exception as they are commonly called, we can place this code inside a 'try' block and have an 'except' block to catch any errors. This might look something like this:\n",
    "```python\n",
    "try:\n",
    "    #troublesome code here\n",
    "except:\n",
    "    print(\"An Exception occured!\")\n",
    "```\n",
    "    \n",
    "If an exception occurs inside the try block, the code will stop executing at the line where an error occured, and will jump to the except block. When either the try or the except block is complete, the program continues with the code following the except block.\n",
    "\n",
    "Try the below example, entering an integer and a non-integer:"
   ]
  },
  {
   "cell_type": "code",
   "execution_count": 1,
   "metadata": {},
   "outputs": [
    {
     "name": "stdout",
     "output_type": "stream",
     "text": [
      "Please enter an integer\n",
      "2\n",
      "Success!\n",
      "End of try and except blocks\n"
     ]
    }
   ],
   "source": [
    "try:\n",
    "    value = int(input(\"Please enter an integer\\n\"))  \n",
    "    print(\"Success!\")\n",
    "except:\n",
    "    print('An Exception occured!')\n",
    "print(\"End of try and except blocks\")"
   ]
  },
  {
   "cell_type": "markdown",
   "metadata": {},
   "source": [
    "### Specific exceptions\n",
    "The except block is catching any exceptions that may occur, and is the equivilent of:\n",
    "```python\n",
    "except Exception:\n",
    "```\n",
    "    \n",
    "We can also catch more specific exceptions, so if we know that the user is not going to enter an integer we can catch a 'ValueError' which catches values that are out of range. This will catch any non-integer input since its not in the valid range for an integer. This casuses the example above to become:"
   ]
  },
  {
   "cell_type": "code",
   "execution_count": 2,
   "metadata": {},
   "outputs": [
    {
     "name": "stdout",
     "output_type": "stream",
     "text": [
      "Please enter an integer\n",
      "y\n",
      "A ValueError occured!\n",
      "End of try and except blocks\n"
     ]
    }
   ],
   "source": [
    "try:\n",
    "    value = int(input(\"Please enter an integer\\n\"))  \n",
    "    print(\"Success!\")\n",
    "except ValueError:\n",
    "    print('A ValueError occured!')\n",
    "print(\"End of try and except blocks\")"
   ]
  },
  {
   "cell_type": "markdown",
   "metadata": {},
   "source": [
    "We can also catch multiple errors from the same try block.\n",
    "\n",
    "The bleow example asks for an index which will throw a ValueError for non-integer input as before. It then uses this value to acess an element in the list. If the index is out of bounds for the list, then an IndexError will be thrown."
   ]
  },
  {
   "cell_type": "code",
   "execution_count": 3,
   "metadata": {},
   "outputs": [
    {
     "name": "stdout",
     "output_type": "stream",
     "text": [
      "Please enter an index to look display\n",
      "4\n",
      "An IndexError occured!\n"
     ]
    }
   ],
   "source": [
    "List = [1, 2, 3]\n",
    "try:\n",
    "    value = int(input(\"Please enter an index to display the list value for\\n\"))  \n",
    "    print(\"Value in list is: \", List[value])\n",
    "except ValueError:\n",
    "    print('A ValueError occured!')\n",
    "except IndexError:\n",
    "        print('An IndexError occured!')"
   ]
  },
  {
   "cell_type": "markdown",
   "metadata": {},
   "source": [
    "We can also catch multiple exception types in one exception block. This allows us to print the same message for different exceptions."
   ]
  },
  {
   "cell_type": "code",
   "execution_count": 4,
   "metadata": {},
   "outputs": [
    {
     "name": "stdout",
     "output_type": "stream",
     "text": [
      "Please enter an index to look display\n",
      "3\n",
      "Invalid value!\n"
     ]
    }
   ],
   "source": [
    "List = [1, 2, 3]\n",
    "try:\n",
    "    value = int(input(\"Please enter an index to display the list value for\\n\"))  \n",
    "    print(\"Value in list is: \", List[value])\n",
    "except (ValueError, IndexError):\n",
    "    print('Invalid value!')\n"
   ]
  },
  {
   "cell_type": "markdown",
   "metadata": {},
   "source": [
    "### Error messages\n",
    "We can also choose to display an error message that is automatically generated when the error is thrown. This can be partuicularly useful when trying to debug your code.\n"
   ]
  },
  {
   "cell_type": "code",
   "execution_count": 9,
   "metadata": {},
   "outputs": [
    {
     "name": "stdout",
     "output_type": "stream",
     "text": [
      "Please enter an integer\n",
      "m\n",
      "A ValueError occured!\n",
      " invalid literal for int() with base 10: 'm'\n"
     ]
    }
   ],
   "source": [
    "try:\n",
    "    value = int(input(\"Please enter an integer\\n\"))  \n",
    "    print(\"Success!\")\n",
    "except ValueError as err:\n",
    "    print('A ValueError occured!\\n', err)\n"
   ]
  },
  {
   "cell_type": "markdown",
   "metadata": {},
   "source": [
    "We can also manually throw or 'raise' an error and pass it a custom message.\n",
    "\n",
    "This is illustrated in the example below, where a value error can occur either by entering non-integer input or can be thrown when the value is not in a valid range for the list"
   ]
  },
  {
   "cell_type": "code",
   "execution_count": 8,
   "metadata": {},
   "outputs": [
    {
     "name": "stdout",
     "output_type": "stream",
     "text": [
      "Please enter an index to display the list value for\n",
      "3\n",
      "Invalid value!\n",
      " value must be between 0 and 2\n"
     ]
    }
   ],
   "source": [
    "def checkVal(value):\n",
    "    if (value > 2) or (value < 0):\n",
    "        raise ValueError(\"Value must be between 0 and 2\")\n",
    "    else:\n",
    "        return value\n",
    "#END processInt\n",
    "\n",
    "List = [1, 2, 3]\n",
    "try:\n",
    "    num = int(input(\"Please enter an index to display the list value for\\n\"))  \n",
    "    checkVal(num)\n",
    "    print(\"Value in list is: \", List[value])\n",
    "except ValueError as err:\n",
    "    print('Invalid value!\\n', err)\n"
   ]
  },
  {
   "cell_type": "markdown",
   "metadata": {},
   "source": [
    "### Defining your own exceptions\n",
    "There are plenty of built-in exceptions, you can find out more about them here: https://docs.python.org/3/library/exceptions.html. However, sometimes none of these exceptions really suit our needs and so we may want to design our own exceptions.\n",
    "\n",
    "The simplest way to do this is to create a class for your exception and inherit from the exception class. Inheritance is part of Object orientation and will be covered in the next worksheet. For now, all you need to know is that the exception will behave in all the same way as a system-defined exception, but without a default error message.\n"
   ]
  },
  {
   "cell_type": "code",
   "execution_count": 15,
   "metadata": {},
   "outputs": [
    {
     "name": "stdout",
     "output_type": "stream",
     "text": [
      "Throwing my exception\n",
      "The default error message is: \n"
     ]
    }
   ],
   "source": [
    "#Defining exception\n",
    "class MyException(Exception):\n",
    "    pass    #allows it to be valid without any extra code\n",
    "\n",
    "#using exception with a message\n",
    "try:\n",
    "    raise MyException(\"Throwing my exception\")\n",
    "except MyException as err:\n",
    "    print(err)\n",
    "    \n",
    "#Using without a message\n",
    "try:\n",
    "    raise MyException\n",
    "except MyException as err:\n",
    "    print(\"The default error message is:\",err)"
   ]
  },
  {
   "cell_type": "markdown",
   "metadata": {},
   "source": [
    "If we want, we can define a default error message but doing so requires more object orientation. It is included here for your refrence, feel free to skip to the next section if you're not comfortable with object orientation."
   ]
  },
  {
   "cell_type": "code",
   "execution_count": 16,
   "metadata": {},
   "outputs": [
    {
     "name": "stdout",
     "output_type": "stream",
     "text": [
      "Throwing my exception\n",
      "The default error message is: My exception occured!\n"
     ]
    }
   ],
   "source": [
    "#Defining exception\n",
    "class MyException(Exception):\n",
    "    def __init__(self, msg=\"\"):    #if no msg is passed, set msg to \"\"\n",
    "        self.msg = msg\n",
    "    \n",
    "    def __str__(self):\n",
    "        if self.msg == \"\":\n",
    "            msg = \"My exception occured!\"\n",
    "        else:\n",
    "            msg = self.msg\n",
    "        return msg\n",
    "    \n",
    "#using exception with a message\n",
    "try:\n",
    "    raise MyException(\"Throwing my exception\")\n",
    "except MyException as err:\n",
    "    print(err)\n",
    "    \n",
    "#Using without a message\n",
    "try:\n",
    "    raise MyException\n",
    "except MyException as err:\n",
    "    print(\"The default error message is:\",err)"
   ]
  },
  {
   "cell_type": "markdown",
   "metadata": {},
   "source": [
    "## FileIO\n",
    "To read files in python we first need to open the file. The syntax for this is as follows:\n",
    "```python\n",
    "file = open(filename)\n",
    "```\n",
    "This gives us a variable called file that we can now refrence in our program.\n",
    "In python there are three main methods for reading a file: readline(), readlines() and read()"
   ]
  }
 ],
 "metadata": {
  "kernelspec": {
   "display_name": "Python 3",
   "language": "python",
   "name": "python3"
  },
  "language_info": {
   "codemirror_mode": {
    "name": "ipython",
    "version": 3
   },
   "file_extension": ".py",
   "mimetype": "text/x-python",
   "name": "python",
   "nbconvert_exporter": "python",
   "pygments_lexer": "ipython3",
   "version": "3.7.3"
  }
 },
 "nbformat": 4,
 "nbformat_minor": 2
}
