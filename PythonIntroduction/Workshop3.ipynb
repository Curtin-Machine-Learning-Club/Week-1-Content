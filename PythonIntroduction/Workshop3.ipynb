{
 "cells": [
  {
   "cell_type": "markdown",
   "id": "sitting-antigua",
   "metadata": {},
   "source": [
    "# Workshop 3"
   ]
  },
  {
   "cell_type": "markdown",
   "id": "intellectual-radio",
   "metadata": {},
   "source": [
    "This Workshop will cover methods functions and basic Object Orientation. From this you will be ready to start writing clean maintainable and extensible code."
   ]
  },
  {
   "cell_type": "markdown",
   "id": "acknowledged-oregon",
   "metadata": {},
   "source": [
    "## Functions\n",
    "\n",
    "### What are Functions\n",
    "\n",
    "A function is a block of code that we are able to call multiple times after defining in one place.\n",
    "\n",
    "### Why Use Them?\n",
    "\n",
    "Functions are very useful and allow us to write blocks of code that we can call on later. This helps us to reduce the amount of times we need to write the same code and also help with maintaining code. This is as we only need to change the function if something changes. Where as without functions we would need to change all the code in all spots where that functionality appears.\n",
    "\n",
    "Functions also allow us to pass data into them in the form of parameters and return data from the functions through their return statement.\n",
    "\n",
    "### Function Basics\n",
    "\n",
    "To create a function the keyword \"def\" is used. This allows us to define a function. A function needs a name and may have input parameters. We would write a simple function that takes no inputs as seen below.\n",
    "\n"
   ]
  },
  {
   "cell_type": "code",
   "execution_count": 7,
   "id": "searching-stamp",
   "metadata": {},
   "outputs": [],
   "source": [
    "def print10():\n",
    "    print(10)"
   ]
  },
  {
   "cell_type": "markdown",
   "id": "optional-southwest",
   "metadata": {},
   "source": [
    "We are now able to call this function anywhere are it has been defined. Due to python being an interpreted language (runs it line by line instead of compiling), we need to have the function defined above where we are going to use it. This ensures that python knows that it has been defined."
   ]
  },
  {
   "cell_type": "code",
   "execution_count": 10,
   "id": "horizontal-forwarding",
   "metadata": {},
   "outputs": [
    {
     "ename": "NameError",
     "evalue": "name 'print2' is not defined",
     "output_type": "error",
     "traceback": [
      "\u001b[0;31m---------------------------------------------------------------------------\u001b[0m",
      "\u001b[0;31mNameError\u001b[0m                                 Traceback (most recent call last)",
      "\u001b[0;32m<ipython-input-10-cfc89d0e7b81>\u001b[0m in \u001b[0;36m<module>\u001b[0;34m\u001b[0m\n\u001b[0;32m----> 1\u001b[0;31m \u001b[0mprint2\u001b[0m\u001b[0;34m(\u001b[0m\u001b[0;34m)\u001b[0m\u001b[0;34m\u001b[0m\u001b[0;34m\u001b[0m\u001b[0m\n\u001b[0m\u001b[1;32m      2\u001b[0m \u001b[0;34m\u001b[0m\u001b[0m\n\u001b[1;32m      3\u001b[0m \u001b[0;32mdef\u001b[0m \u001b[0mprint2\u001b[0m\u001b[0;34m(\u001b[0m\u001b[0;34m)\u001b[0m\u001b[0;34m:\u001b[0m\u001b[0;34m\u001b[0m\u001b[0;34m\u001b[0m\u001b[0m\n\u001b[1;32m      4\u001b[0m     \u001b[0mprint\u001b[0m\u001b[0;34m(\u001b[0m\u001b[0;36m2\u001b[0m\u001b[0;34m)\u001b[0m\u001b[0;34m\u001b[0m\u001b[0;34m\u001b[0m\u001b[0m\n",
      "\u001b[0;31mNameError\u001b[0m: name 'print2' is not defined"
     ]
    }
   ],
   "source": [
    "print2()\n",
    "\n",
    "def print2():\n",
    "    print(2)"
   ]
  },
  {
   "cell_type": "markdown",
   "id": "amateur-alert",
   "metadata": {},
   "source": [
    " We see that we encounter an error as the function is not defined before we call it. Below we can now call this function to print the number 10"
   ]
  },
  {
   "cell_type": "code",
   "execution_count": 8,
   "id": "rapid-forestry",
   "metadata": {},
   "outputs": [
    {
     "name": "stdout",
     "output_type": "stream",
     "text": [
      "10\n"
     ]
    }
   ],
   "source": [
    "print10()"
   ]
  },
  {
   "cell_type": "markdown",
   "id": "unexpected-henry",
   "metadata": {},
   "source": [
    "Notice the brackets after the function name, this is how the function is called, it basically just lets python know that it is a function to run not a variable. If we do not include this then the function will not run as shown below. So remember to use the brackets to run functions"
   ]
  },
  {
   "cell_type": "code",
   "execution_count": 12,
   "id": "special-charm",
   "metadata": {},
   "outputs": [
    {
     "data": {
      "text/plain": [
       "<function __main__.print10()>"
      ]
     },
     "execution_count": 12,
     "metadata": {},
     "output_type": "execute_result"
    }
   ],
   "source": [
    "print10"
   ]
  },
  {
   "cell_type": "markdown",
   "id": "checked-notebook",
   "metadata": {},
   "source": [
    "### Input Parameters\n",
    "We are also able to pass values into the function as I stated before. We define these input parameters inside the brackets in the definiton of the function. This can be seen below where a simple function that adds its two inputs and prints the sum has been written."
   ]
  },
  {
   "cell_type": "code",
   "execution_count": 9,
   "id": "provincial-conspiracy",
   "metadata": {},
   "outputs": [
    {
     "name": "stdout",
     "output_type": "stream",
     "text": [
      "3\n"
     ]
    }
   ],
   "source": [
    "## Define the function\n",
    "def addTwoNumbers(num1, num2):\n",
    "    print (str(num1 + num2))\n",
    "\n",
    "## Call the function\n",
    "addTwoNumbers(1, 2)"
   ]
  },
  {
   "cell_type": "markdown",
   "id": "standard-adelaide",
   "metadata": {},
   "source": [
    "### Returning Values\n",
    "Continuing with the idea of a funciton that adds two numbers, we can also have a function that instead of printing the number returns it. This means we can assign variables to the output of functions as can be seen below."
   ]
  },
  {
   "cell_type": "code",
   "execution_count": 11,
   "id": "single-mortality",
   "metadata": {},
   "outputs": [
    {
     "name": "stdout",
     "output_type": "stream",
     "text": [
      "6\n"
     ]
    }
   ],
   "source": [
    "# Define the Fuction\n",
    "def addTwoNumbers(num1, num2):\n",
    "    return num1 + num2\n",
    "\n",
    "## Assign a variable to the functions output\n",
    "num = addTwoNumbers(1, 2)\n",
    "\n",
    "# Multiply value by 2 then print it\n",
    "num *= 2\n",
    "print(num)"
   ]
  },
  {
   "cell_type": "markdown",
   "id": "equipped-generation",
   "metadata": {},
   "source": [
    "### Print and Return\n",
    "As we can see print and return may seem similar, however all print is doing is displaying a variable or displaying something to the screen. Where return allows us to save it into a variable for later as show in the example above."
   ]
  },
  {
   "cell_type": "markdown",
   "id": "sudden-strengthening",
   "metadata": {},
   "source": [
    "### More Advanced Functions\n",
    "\n",
    "From here you can now write much more advanced functions to do multiple things. Just remember the purpose of a function is to reduce the amount of times you need to use an operation, so use them instead of having repeated chunks of code."
   ]
  },
  {
   "cell_type": "markdown",
   "id": "native-coordinate",
   "metadata": {},
   "source": [
    "### Check For A value In A List\n",
    "\n",
    "An example of a more complicated function is one that will return true if it finds a value in a list. An approach to this can be seen below however there are some errors with it\n"
   ]
  },
  {
   "cell_type": "code",
   "execution_count": 13,
   "id": "mysterious-cholesterol",
   "metadata": {},
   "outputs": [],
   "source": [
    "# Incorrect\n",
    "def checkForValue(sequence, value):\n",
    "    for i in sequence:\n",
    "        if i != value:\n",
    "            return False\n",
    "        else:\n",
    "            return True"
   ]
  },
  {
   "cell_type": "code",
   "execution_count": 14,
   "id": "expanded-madagascar",
   "metadata": {},
   "outputs": [
    {
     "data": {
      "text/plain": [
       "False"
      ]
     },
     "execution_count": 14,
     "metadata": {},
     "output_type": "execute_result"
    }
   ],
   "source": [
    "list1 = [1, 2, 3, 4]\n",
    "value = 2\n",
    "\n",
    "checkForValue(list1, value)"
   ]
  },
  {
   "cell_type": "markdown",
   "id": "loose-pattern",
   "metadata": {},
   "source": [
    "As we can see the function did not work as we are returning false if the value does not equal the value we are looking for, so in the first loop it will return false. Also notice the multiple returns, this is not the best practise as it reduces the readability of the code. A better example of this function is below\n"
   ]
  },
  {
   "cell_type": "code",
   "execution_count": 15,
   "id": "boring-think",
   "metadata": {},
   "outputs": [],
   "source": [
    "def checkForValue(sequence, value):\n",
    "    contains = False\n",
    "    \n",
    "    for i in sequence:\n",
    "        if i == value:\n",
    "            contains = True\n",
    "    \n",
    "    return contains"
   ]
  },
  {
   "cell_type": "code",
   "execution_count": 18,
   "id": "undefined-worst",
   "metadata": {},
   "outputs": [
    {
     "name": "stdout",
     "output_type": "stream",
     "text": [
      "True\n",
      "False\n"
     ]
    }
   ],
   "source": [
    "list1 = [1, 2, 3, 4]\n",
    "value1 = 2\n",
    "value2 = 7\n",
    "\n",
    "print(checkForValue(list1, value1))\n",
    "print(checkForValue(list1, value2))\n"
   ]
  },
  {
   "cell_type": "markdown",
   "id": "accredited-wonder",
   "metadata": {},
   "source": [
    "We see now that the function works as expected. It is also good practise to write tests for our functions to ensure they have the expected functionality. For a funciton like this we would just test for each case. We can write a test function list.\n",
    "\n",
    "    def functionTest():\n",
    "        print(\"Testing function\")\n",
    "    \n",
    "        expectedOutputs = [output1, output2]\n",
    "        inputs = [input1, input2]\n",
    "\n",
    "        for i in range(len(inputs)):\n",
    "            print(\"Test \" + i + \" : \")\n",
    "            if function(inputs[i]) == expectedOutputs[i]: \n",
    "                print(\"\\tPassed\")\n",
    "            else:\n",
    "                print(\"\\tFailed\")\n",
    "    "
   ]
  },
  {
   "cell_type": "markdown",
   "id": "incident-advancement",
   "metadata": {},
   "source": [
    "For the checkForValue Function we could write the test function as below. However this is just a guide and all we need to do for the test function is test each case of inputs for the function."
   ]
  },
  {
   "cell_type": "code",
   "execution_count": 21,
   "id": "processed-visiting",
   "metadata": {},
   "outputs": [
    {
     "name": "stdout",
     "output_type": "stream",
     "text": [
      "Testing checkForValue\n",
      "Test 0 : \n",
      "\tPassed.\n",
      "Test 1 : \n",
      "\tPassed.\n"
     ]
    }
   ],
   "source": [
    "def testCheckForValue():\n",
    "    print(\"Testing checkForValue\")\n",
    "    \n",
    "    expectedOutputs = [True, False]\n",
    "    inputVal = [1, 7]\n",
    "    inputList = [[1, 2, 3], [1, 2, 3]]\n",
    "    \n",
    "    for i in range(len(inputVal)):\n",
    "        print(\"Test \" + str(i) + \" : \")\n",
    "        \n",
    "        if checkForValue(inputList[i], inputVal[i]) == expectedOutputs[i]:\n",
    "            print(\"\\tPassed.\")\n",
    "        else:\n",
    "            print(\"\\tFailed.\")\n",
    "\n",
    "testCheckForValue()"
   ]
  },
  {
   "cell_type": "markdown",
   "id": "elementary-german",
   "metadata": {},
   "source": [
    "## Methods\n",
    "\n",
    "Methods may have already been encountered before. There are basically functions that belong to objects. We will get onto what objects are, but before that we will go over some methods briefly to help understanding of them in relation of objects.\n",
    "\n",
    "Methods are in the form:\n",
    "\n",
    "    object.method(args)\n",
    "    \n",
    "Lets Now have a look at some methods that relate to various data types we have seen before."
   ]
  },
  {
   "cell_type": "code",
   "execution_count": 2,
   "id": "documented-yacht",
   "metadata": {},
   "outputs": [],
   "source": [
    "# Setting up a simple list\n",
    "list1 = [1, 2, 3, 4]"
   ]
  },
  {
   "cell_type": "markdown",
   "id": "divided-international",
   "metadata": {},
   "source": [
    "Lists have various methods we can call from them, as they are objects, hence, have associated methods. These various methods as we will see allow us to modify the list or access data from it. These are:\n",
    "- append\n",
    "- count\n",
    "- extend\n",
    "- insert \n",
    "- pop\n",
    "- remove \n",
    "- reverse \n",
    "- sort\n",
    "\n",
    "Now we can also see their functionality below"
   ]
  },
  {
   "cell_type": "code",
   "execution_count": 3,
   "id": "traditional-diagram",
   "metadata": {},
   "outputs": [
    {
     "name": "stdout",
     "output_type": "stream",
     "text": [
      "[1, 2, 3, 4, 5]\n"
     ]
    }
   ],
   "source": [
    "list1.append(5)\n",
    "print(list1)"
   ]
  },
  {
   "cell_type": "markdown",
   "id": "wooden-candy",
   "metadata": {},
   "source": [
    "We can see that the append method has added 5 to our list"
   ]
  },
  {
   "cell_type": "code",
   "execution_count": 5,
   "id": "spiritual-choir",
   "metadata": {},
   "outputs": [
    {
     "data": {
      "text/plain": [
       "1"
      ]
     },
     "execution_count": 5,
     "metadata": {},
     "output_type": "execute_result"
    }
   ],
   "source": [
    "# Returns the count of an item in the list\n",
    "list1.count(1)"
   ]
  },
  {
   "cell_type": "markdown",
   "id": "institutional-senegal",
   "metadata": {},
   "source": [
    "Those are just a few examples of methods that can be used with a list as you will see there are various methods for all types of objects, and all types of methods that you can make for your own classes."
   ]
  },
  {
   "cell_type": "markdown",
   "id": "colonial-encounter",
   "metadata": {},
   "source": [
    "## Object Orientation"
   ]
  },
  {
   "cell_type": "markdown",
   "id": "aware-jimmy",
   "metadata": {},
   "source": [
    "Python allows us to write our own classes, which allows us to create an object of that class. We have already seen some examples of objects such as the list above. In python everything is an object. This can be seen below"
   ]
  },
  {
   "cell_type": "code",
   "execution_count": 22,
   "id": "accurate-cooling",
   "metadata": {},
   "outputs": [
    {
     "name": "stdout",
     "output_type": "stream",
     "text": [
      "<class 'int'>\n",
      "<class 'list'>\n",
      "<class 'dict'>\n",
      "<class 'tuple'>\n"
     ]
    }
   ],
   "source": [
    "print(type(1))\n",
    "print(type([]))\n",
    "print(type({}))\n",
    "print(type(()))"
   ]
  },
  {
   "cell_type": "markdown",
   "id": "chicken-accounting",
   "metadata": {},
   "source": [
    "So everything in python is an object, so how do we go about creating out own? As stated before we are able to write classes that allow us to create objects of that class. This is done with the class keyword. Below we have create a simple class that doesn't do anything then created an object of that class as verified by the type() function."
   ]
  },
  {
   "cell_type": "code",
   "execution_count": 23,
   "id": "attached-injection",
   "metadata": {},
   "outputs": [
    {
     "data": {
      "text/plain": [
       "__main__.OurClass"
      ]
     },
     "execution_count": 23,
     "metadata": {},
     "output_type": "execute_result"
    }
   ],
   "source": [
    "## Create a class\n",
    "class OurClass:\n",
    "    pass\n",
    "\n",
    "## Creating an object of the class OurClass\n",
    "ourClass = OurClass()\n",
    "\n",
    "type(ourClass)"
   ]
  },
  {
   "cell_type": "markdown",
   "id": "critical-panel",
   "metadata": {},
   "source": [
    "By conventions classes start with capital letters. You can see that to create an object of that class we just use the class name followed by (). Similar to how we would call a function. The variable ourClass is also now a reference to the newly created object. We can say that we instantiate the OurClass when we create an object of it."
   ]
  },
  {
   "cell_type": "markdown",
   "id": "similar-latin",
   "metadata": {},
   "source": [
    "An *Attribute* is a field within the class and a *Method* is a function within the class. It can be thought of a class as being a representation of a real world thing that has both attributes and functionality, such as a dog which has attributes such as it's colour and breed as well as functionality such as a method to bark, and move, etc."
   ]
  },
  {
   "cell_type": "markdown",
   "id": "continent-modern",
   "metadata": {},
   "source": [
    "### Attributes\n",
    "\n",
    "The syntax for creating an attribute is as below"
   ]
  },
  {
   "cell_type": "markdown",
   "id": "liked-position",
   "metadata": {},
   "source": [
    "       self.attribute = value"
   ]
  },
  {
   "cell_type": "markdown",
   "id": "powerful-rover",
   "metadata": {},
   "source": [
    "There is also a special method that we can use to construct an object of our class. This is the \\__init__() method. This basically allows us to set up our newly created object. This is where we initialise the attributes of our object. A simple example of this following from the dog example above can be seen below"
   ]
  },
  {
   "cell_type": "code",
   "execution_count": 25,
   "id": "stunning-dollar",
   "metadata": {},
   "outputs": [],
   "source": [
    "class Dog:\n",
    "    def __init__(self, colour, breed):\n",
    "        self.colour = colour\n",
    "        self.breed = breed\n",
    "        \n",
    "jeff = Dog(\"brown\", \"cavoodle\")"
   ]
  },
  {
   "cell_type": "markdown",
   "id": "novel-warehouse",
   "metadata": {},
   "source": [
    "Let's now have a look at this \\__init__() method. It created our Dog object and assigned it's value of colour to the one passed into the \\__init__() method and same with the breed attribute"
   ]
  },
  {
   "cell_type": "markdown",
   "id": "controlled-england",
   "metadata": {},
   "source": [
    "Effectively the variables that we pass into the constructor (\\__init__()) are then being assigned as the objects attributes"
   ]
  },
  {
   "cell_type": "markdown",
   "id": "vital-identifier",
   "metadata": {},
   "source": [
    "Each attribute starts with a reference to self, this self is the object that we are creating, then it uses this to assign it's attributes. We can now access our dogs attributes as shown below"
   ]
  },
  {
   "cell_type": "code",
   "execution_count": 26,
   "id": "better-bracket",
   "metadata": {},
   "outputs": [
    {
     "data": {
      "text/plain": [
       "'cavoodle'"
      ]
     },
     "execution_count": 26,
     "metadata": {},
     "output_type": "execute_result"
    }
   ],
   "source": [
    "jeff.breed"
   ]
  },
  {
   "cell_type": "code",
   "execution_count": 27,
   "id": "italian-briefs",
   "metadata": {},
   "outputs": [
    {
     "data": {
      "text/plain": [
       "'brown'"
      ]
     },
     "execution_count": 27,
     "metadata": {},
     "output_type": "execute_result"
    }
   ],
   "source": [
    "jeff.colour"
   ]
  },
  {
   "cell_type": "markdown",
   "id": "hairy-husband",
   "metadata": {},
   "source": [
    "Unlike methods we do not need the () as we are not calling a method but instead accessing the attributes of our object."
   ]
  },
  {
   "cell_type": "markdown",
   "id": "subsequent-target",
   "metadata": {},
   "source": [
    "In Python there are also class attributes. These attributes are the same for every object of a particular class. An example of this can be seen below."
   ]
  },
  {
   "cell_type": "code",
   "execution_count": 28,
   "id": "wrapped-beverage",
   "metadata": {},
   "outputs": [
    {
     "name": "stdout",
     "output_type": "stream",
     "text": [
      "animal\n",
      "animal\n"
     ]
    }
   ],
   "source": [
    "class Dog:\n",
    "    ## Class attribute\n",
    "    species = \"animal\"\n",
    "    \n",
    "    def __init__(self, colour, breed):\n",
    "        self.colour = colour\n",
    "        self.breed = breed\n",
    "        \n",
    "jeff = Dog(\"brown\", \"cavoodle\")\n",
    "pog = Dog(\"white\", \"poodle\")\n",
    "\n",
    "print(jeff.species)\n",
    "print(pog.species)"
   ]
  },
  {
   "cell_type": "markdown",
   "id": "grateful-sending",
   "metadata": {},
   "source": [
    "As we can see the species attribute is the same for every instance of Dog (object of the Dog class)."
   ]
  },
  {
   "cell_type": "markdown",
   "id": "angry-opera",
   "metadata": {},
   "source": [
    "### Methods"
   ]
  },
  {
   "cell_type": "markdown",
   "id": "geographic-composition",
   "metadata": {},
   "source": [
    "Methods are functions that we can define inside of a class, this allows us to call the method on the class so that we can group both functionality and attributes inside of objects. This is a key concept of Object Oriented Programming. You can basically think of methods as functions that act upon an object which take the object itself into account through the self argument required. This self argument once again acts as a pointer to the object. An example of a method that has already been encountered is the /__init__() method"
   ]
  },
  {
   "cell_type": "markdown",
   "id": "hybrid-prediction",
   "metadata": {},
   "source": [
    "Lets go through an example by contiuing on with our Dog class"
   ]
  },
  {
   "cell_type": "code",
   "execution_count": 29,
   "id": "cultural-wright",
   "metadata": {},
   "outputs": [],
   "source": [
    "class Dog:\n",
    "    species = \"animal\"\n",
    "    \n",
    "    def __init__(self, colour, breed):\n",
    "        self.colour = colour\n",
    "        self.breed = breed\n",
    "    \n",
    "    # Method that makes the dog bark\n",
    "    def bark(self):\n",
    "        print(\"bark\")\n",
    "    \n",
    "    # Method that makes the dog roll over\n",
    "    def rollOver(self):\n",
    "        print(\"rolls over\")"
   ]
  },
  {
   "cell_type": "markdown",
   "id": "planned-london",
   "metadata": {},
   "source": [
    "Another simple class example would be a square class"
   ]
  },
  {
   "cell_type": "code",
   "execution_count": 37,
   "id": "humanitarian-springfield",
   "metadata": {},
   "outputs": [
    {
     "name": "stdout",
     "output_type": "stream",
     "text": [
      "Perimeter is 20\n",
      "Area is 25\n"
     ]
    }
   ],
   "source": [
    "class Square:\n",
    "    \n",
    "    def __init__(self, sideLength=1):\n",
    "        self.sideLength = sideLength\n",
    "        \n",
    "    # Simple method for getting the perimeter\n",
    "    def getPerimeter(self):\n",
    "        return 4 * self.sideLength\n",
    "    \n",
    "    # Simple method for getting the side length\n",
    "    def getArea(self):\n",
    "        return self.sideLength ** 2\n",
    "    \n",
    "s = Square(5)\n",
    "print(\"Perimeter is\", str(s.getPerimeter()))\n",
    "print(\"Area is\", str(s.getArea()))\n",
    "\n"
   ]
  },
  {
   "cell_type": "markdown",
   "id": "german-partnership",
   "metadata": {},
   "source": [
    "Note the sideLength=1. This is an example of optional arguments in python. It allows us to have a predefined value for a value of a function or method. This value is change to whatever is passed in if a value is, otherwise it will be the value assigned inside the method definition. This can be shown below"
   ]
  },
  {
   "cell_type": "code",
   "execution_count": 34,
   "id": "statistical-storage",
   "metadata": {},
   "outputs": [
    {
     "name": "stdout",
     "output_type": "stream",
     "text": [
      "4\n",
      "16\n"
     ]
    }
   ],
   "source": [
    "class Square:\n",
    "    \n",
    "    def __init__(self, sideLength=1):\n",
    "        self.sideLength = sideLength\n",
    "        \n",
    "    # Simple method for getting the perimeter\n",
    "    def getPerimeter(self):\n",
    "        return 4 * self.sideLength\n",
    "    \n",
    "    # Simple method for getting the side length\n",
    "    def getArea(self):\n",
    "        return self.sideLength ** 2\n",
    "\n",
    "\n",
    "s1 = Square()\n",
    "s2 = Square(4)\n",
    "\n",
    "print(s1.getPerimeter())\n",
    "print(s2.getPerimeter())"
   ]
  },
  {
   "cell_type": "markdown",
   "id": "acoustic-questionnaire",
   "metadata": {},
   "source": [
    "NOTE: Notice the self.attribute whenever refering to an attribute. This ensures the value being used is in regards to itself."
   ]
  },
  {
   "cell_type": "markdown",
   "id": "skilled-shipping",
   "metadata": {},
   "source": [
    "Now lets add a method to modify the perimeter and see what happens when we call the other methods."
   ]
  },
  {
   "cell_type": "code",
   "execution_count": 38,
   "id": "saving-strategy",
   "metadata": {},
   "outputs": [
    {
     "name": "stdout",
     "output_type": "stream",
     "text": [
      "Perimeter is 16\n",
      "Area is 16\n",
      "Perimeter is 8\n",
      "Area is 4\n"
     ]
    }
   ],
   "source": [
    "class Square:\n",
    "    \n",
    "    def __init__(self, sideLength=1):\n",
    "        self.sideLength = sideLength\n",
    "        \n",
    "    # Simple method for getting the perimeter\n",
    "    def getPerimeter(self):\n",
    "        return 4 * self.sideLength\n",
    "    \n",
    "    # Simple method for getting the area\n",
    "    def getArea(self):\n",
    "        return self.sideLength ** 2\n",
    "    \n",
    "    # Simple method for setting sideLength\n",
    "    def setSideLength(self, sideLength):\n",
    "        self.sideLength = sideLength\n",
    "\n",
    "s = Square(4)\n",
    "print(\"Perimeter is\", str(s.getPerimeter()))\n",
    "print(\"Area is\", str(s.getArea()))\n",
    "\n",
    "s.setSideLength(2)\n",
    "\n",
    "print(\"Perimeter is\", str(s.getPerimeter()))\n",
    "print(\"Area is\", str(s.getArea()))"
   ]
  },
  {
   "cell_type": "markdown",
   "id": "concrete-lightning",
   "metadata": {},
   "source": [
    "Notice how the value of the perimeter and area has now changed. This is as we are modifying the attribute of sideLength which is used to return the perimeter and area. "
   ]
  },
  {
   "cell_type": "markdown",
   "id": "quality-toolbox",
   "metadata": {},
   "source": [
    "Now it is important to review this and try to make sure you understand how it works. Try writing your own classes and creating your own objects it will help you to understand how they work and what is going on."
   ]
  },
  {
   "cell_type": "markdown",
   "id": "hearing-culture",
   "metadata": {},
   "source": [
    "### Inheritence\n",
    "Inheritence is another way of code reuse. However, this time it is between classes. It allows for use of functionality from a previous class to be used for a new class. The main benefit of inheritence is it allows for descendent classes to be less complex. The super class or parent class is the class that the child or descendent inherits from."
   ]
  },
  {
   "cell_type": "markdown",
   "id": "complicated-basin",
   "metadata": {},
   "source": [
    "An example of this could be having an animal class that our Dog class inherits from, or a shape class that our square inherits from"
   ]
  },
  {
   "cell_type": "code",
   "execution_count": 42,
   "id": "unlimited-discipline",
   "metadata": {},
   "outputs": [
    {
     "name": "stdout",
     "output_type": "stream",
     "text": [
      "created\n",
      "created\n",
      "moved\n",
      "moved\n",
      "eating\n",
      "eating\n",
      "bark\n",
      "rolls over\n"
     ]
    }
   ],
   "source": [
    "class Animal:\n",
    "    def __init__(self):\n",
    "        print(\"created\")\n",
    "    \n",
    "    def move(self):\n",
    "        print(\"moved\")\n",
    "    \n",
    "    def eat(self):\n",
    "        print(\"eating\")\n",
    "        \n",
    "class Dog(Animal):\n",
    "    def __init__(self, colour, breed):\n",
    "        super().__init__()\n",
    "        self.colour = colour\n",
    "        self.breed = breed\n",
    "    \n",
    "    def bark(self):\n",
    "        print(\"bark\")\n",
    "    \n",
    "    def rollOver(self):\n",
    "        print(\"rolls over\")\n",
    "\n",
    "a = Animal()\n",
    "dog = Dog(\"black\", \"moodle\")\n",
    "\n",
    "a.move()\n",
    "dog.move()\n",
    "\n",
    "a.eat()\n",
    "dog.eat()\n",
    "\n",
    "dog.bark()\n",
    "dog.rollOver()"
   ]
  },
  {
   "cell_type": "markdown",
   "id": "forward-vinyl",
   "metadata": {},
   "source": [
    "The parent is denoted by the object inside the () when creating a class as seen where we created the Dog class. The super keyword allows us the access the super or parent class. We can then use this super class to call its init method and create our child class in a similar way, as it will call the parents constructor code."
   ]
  },
  {
   "cell_type": "markdown",
   "id": "level-verse",
   "metadata": {},
   "source": [
    "As we can also see above the Dog class has access to all the methods of it's parent class as well as access to it's constructor through super().\\__init__(). However as you will see the parent class does not have access to any of it's childs methods."
   ]
  },
  {
   "cell_type": "code",
   "execution_count": 43,
   "id": "great-innocent",
   "metadata": {},
   "outputs": [
    {
     "name": "stdout",
     "output_type": "stream",
     "text": [
      "created\n",
      "created\n"
     ]
    },
    {
     "ename": "AttributeError",
     "evalue": "'Animal' object has no attribute 'bark'",
     "output_type": "error",
     "traceback": [
      "\u001b[0;31m---------------------------------------------------------------------------\u001b[0m",
      "\u001b[0;31mAttributeError\u001b[0m                            Traceback (most recent call last)",
      "\u001b[0;32m<ipython-input-43-665e299cd6ee>\u001b[0m in \u001b[0;36m<module>\u001b[0;34m\u001b[0m\n\u001b[1;32m     24\u001b[0m \u001b[0mdog\u001b[0m \u001b[0;34m=\u001b[0m \u001b[0mDog\u001b[0m\u001b[0;34m(\u001b[0m\u001b[0;34m\"black\"\u001b[0m\u001b[0;34m,\u001b[0m \u001b[0;34m\"moodle\"\u001b[0m\u001b[0;34m)\u001b[0m\u001b[0;34m\u001b[0m\u001b[0;34m\u001b[0m\u001b[0m\n\u001b[1;32m     25\u001b[0m \u001b[0;34m\u001b[0m\u001b[0m\n\u001b[0;32m---> 26\u001b[0;31m \u001b[0ma\u001b[0m\u001b[0;34m.\u001b[0m\u001b[0mbark\u001b[0m\u001b[0;34m(\u001b[0m\u001b[0;34m)\u001b[0m\u001b[0;34m\u001b[0m\u001b[0;34m\u001b[0m\u001b[0m\n\u001b[0m",
      "\u001b[0;31mAttributeError\u001b[0m: 'Animal' object has no attribute 'bark'"
     ]
    }
   ],
   "source": [
    "class Animal:\n",
    "    def __init__(self):\n",
    "        print(\"created\")\n",
    "    \n",
    "    def move(self):\n",
    "        print(\"moved\")\n",
    "    \n",
    "    def eat(self):\n",
    "        print(\"eating\")\n",
    "        \n",
    "class Dog(Animal):\n",
    "    def __init__(self, colour, breed):\n",
    "        super().__init__()\n",
    "        self.colour = colour\n",
    "        self.breed = breed\n",
    "    \n",
    "    def bark(self):\n",
    "        print(\"bark\")\n",
    "    \n",
    "    def rollOver(self):\n",
    "        print(\"rolls over\")\n",
    "\n",
    "a = Animal()\n",
    "dog = Dog(\"black\", \"moodle\")\n",
    "\n",
    "a.bark()"
   ]
  },
  {
   "cell_type": "markdown",
   "id": "cleared-lodge",
   "metadata": {},
   "source": [
    "As we can see an Animal object does not have access to the methods of a Dog but as the Dog inherits from an Animal it can do everything the Animal class can do. The class Dog(Animal): denotes the inheritents, where whatever is inside the brackets is what the parent class is. If the brackets are omitted such as class Dog: which means it will instead inherit from the base Object class which every class inherits from."
   ]
  },
  {
   "cell_type": "markdown",
   "id": "gentle-function",
   "metadata": {},
   "source": [
    "A similar example of inheritence can be seen below this time with shapes."
   ]
  },
  {
   "cell_type": "code",
   "execution_count": 51,
   "id": "chicken-curve",
   "metadata": {},
   "outputs": [
    {
     "name": "stdout",
     "output_type": "stream",
     "text": [
      "Shape's perimeter is 16\n",
      "Square's perimeter is 12\n",
      "Square's area is 9\n"
     ]
    }
   ],
   "source": [
    "class Shape:\n",
    "    def __init__(self, numSides, sideLength):\n",
    "        self.numSides = numSides\n",
    "        self.sideLength = sideLength\n",
    "    \n",
    "    def getPerimeter(self):\n",
    "        return self.numSides * self.sideLength\n",
    "    \n",
    "class Square(Shape):\n",
    "    def __init__(self, sideLength):\n",
    "        super().__init__(sideLength=sideLength, numSides=4)\n",
    "    \n",
    "    def getArea(self):\n",
    "        return self.sideLength ** 2\n",
    "\n",
    "square = Square(3)\n",
    "shape = Shape(4, 4)\n",
    "\n",
    "print(\"Shape's perimeter is\", str(shape.getPerimeter()))\n",
    "print(\"Square's perimeter is\", str(square.getPerimeter()))\n",
    "\n",
    "print(\"Square's area is\", str(square.getArea()))"
   ]
  },
  {
   "cell_type": "markdown",
   "id": "documentary-maker",
   "metadata": {},
   "source": [
    "### Polymorphism\n",
    "Now we have learnt about how objects have different methods and how when we inherit from a parent we can give that class access to all of it's parents methods. In python polymorphism refers to how we can have objects sharing the same method names and they can be called from the same place no matter what the actual type of object you are dealing with is. This is only best shown through examples as shown below:"
   ]
  },
  {
   "cell_type": "code",
   "execution_count": 54,
   "id": "handled-instrument",
   "metadata": {},
   "outputs": [
    {
     "name": "stdout",
     "output_type": "stream",
     "text": [
      "Shape 1 has a perimeter of 28\n",
      "Shape 2 has a perimeter of 6\n",
      "Shape 1 has an area of 49\n",
      "Shape 2 has an area of 1.7320508075688772\n"
     ]
    }
   ],
   "source": [
    "class Shape:\n",
    "    def __init__(self, numSides, sideLength):\n",
    "        self.numSides = numSides\n",
    "        self.sideLength = sideLength\n",
    "    \n",
    "    def getPerimeter(self):\n",
    "        return self.numSides * self.sideLength\n",
    "    \n",
    "    ## This method is to be implemented in the child class\n",
    "    def getArea(self):\n",
    "        pass\n",
    "    \n",
    "class Square(Shape):\n",
    "    def __init__(self, sideLength):\n",
    "        super().__init__(sideLength=sideLength, numSides=4)\n",
    "    \n",
    "    def getArea(self):\n",
    "        return self.sideLength ** 2\n",
    "    \n",
    "class Triangle(Shape):\n",
    "    def __init__(self, sideLength):\n",
    "        super().__init__(sideLength=sideLength, numSides=3)\n",
    "    \n",
    "    def getArea(self):\n",
    "        return ((3 ** (1/2)) / 4) * (self.sideLength ** 2)\n",
    "    \n",
    "shape1 = Square(7)\n",
    "shape2 = Triangle(2)\n",
    "\n",
    "print(\"Shape 1 has a perimeter of\", shape1.getPerimeter())\n",
    "print(\"Shape 2 has a perimeter of\", shape2.getPerimeter())\n",
    "print(\"Shape 1 has an area of\", shape1.getArea())\n",
    "print(\"Shape 2 has an area of\", shape2.getArea())"
   ]
  },
  {
   "cell_type": "markdown",
   "id": "diagnostic-prevention",
   "metadata": {},
   "source": [
    "Here both classes have both a getArea and a getPerimeter method. This allows us to treat them both as the same object as we can call the same method regardless of the class as they both have those methods defined. This is best shown when iterating through a list. As we are able to use the list as a container of shapes and then use the same functionality on them. "
   ]
  },
  {
   "cell_type": "code",
   "execution_count": 55,
   "id": "chronic-luther",
   "metadata": {},
   "outputs": [
    {
     "name": "stdout",
     "output_type": "stream",
     "text": [
      "49\n",
      "28\n",
      "1.7320508075688772\n",
      "6\n"
     ]
    }
   ],
   "source": [
    "for shape in [shape1, shape2]:\n",
    "    print(shape.getArea())\n",
    "    print(shape.getPerimeter())"
   ]
  },
  {
   "cell_type": "markdown",
   "id": "monthly-murder",
   "metadata": {},
   "source": [
    "We can also achieve this with functions"
   ]
  },
  {
   "cell_type": "code",
   "execution_count": 57,
   "id": "golden-employer",
   "metadata": {},
   "outputs": [
    {
     "name": "stdout",
     "output_type": "stream",
     "text": [
      "28\n",
      "6\n"
     ]
    }
   ],
   "source": [
    "def getPerimeter(shape):\n",
    "    return shape.getPerimeter()\n",
    "\n",
    "print(getPerimeter(shape1))\n",
    "print(getPerimeter(shape2))"
   ]
  },
  {
   "cell_type": "markdown",
   "id": "lovely-peace",
   "metadata": {},
   "source": [
    "Both times above we were able to pass in different object types and obtain different object specific results allowing for some really powerful ways of writing code, as we can decouple our systems to not have to know exactly what type something is but only need to know that it has a specific method."
   ]
  },
  {
   "cell_type": "markdown",
   "id": "growing-editing",
   "metadata": {},
   "source": [
    "A more common example is through abstract classes and interfaces. An abstract class is on that is never instantiated but is used for inheritence. For example now we don't create a shape object only square and triangle objects. An example of an interface is an object that only contains methods but these methods have no implementation, hence this can be used to inherit from and overwrite those methods. This allows us to know that objects that inherit from it will use these methods hence we can use polymorphism and call those methods where all we need to know is that it inherits from that interface. "
   ]
  },
  {
   "cell_type": "markdown",
   "id": "spiritual-celebrity",
   "metadata": {},
   "source": [
    "An example of an interface implementation for the shape class is shown below"
   ]
  },
  {
   "cell_type": "code",
   "execution_count": 59,
   "id": "pharmaceutical-luxembourg",
   "metadata": {},
   "outputs": [],
   "source": [
    "class Shape:\n",
    "    def __init__(self):\n",
    "        pass\n",
    "    \n",
    "    def getPerimeter(self):\n",
    "        raise NotImplementedError(\"Subclass needs to implement this method\")\n",
    "        \n",
    "    def getArea(self):\n",
    "        raise NotImplementedError(\"Subclass needs to implement this method\")"
   ]
  },
  {
   "cell_type": "markdown",
   "id": "different-boost",
   "metadata": {},
   "source": [
    "Now when we inherit from this interface it will throw an error if we haven't overwritten it's code. This ensures that the children will overwrite the functionality if it is to be used"
   ]
  },
  {
   "cell_type": "markdown",
   "id": "spread-sauce",
   "metadata": {},
   "source": [
    "### Where to Next?\n",
    "From here there are still many more things to learn, such as object relationships and design patterns as well as other packages for various things such as machine learning and plotting. However, before you move on make sure you understand all that has been covered and play around with creating objects and using inheritence and polymorphism."
   ]
  },
  {
   "cell_type": "code",
   "execution_count": null,
   "id": "suburban-genre",
   "metadata": {},
   "outputs": [],
   "source": []
  }
 ],
 "metadata": {
  "kernelspec": {
   "display_name": "Python 3",
   "language": "python",
   "name": "python3"
  },
  "language_info": {
   "codemirror_mode": {
    "name": "ipython",
    "version": 3
   },
   "file_extension": ".py",
   "mimetype": "text/x-python",
   "name": "python",
   "nbconvert_exporter": "python",
   "pygments_lexer": "ipython3",
   "version": "3.9.1"
  }
 },
 "nbformat": 4,
 "nbformat_minor": 5
}
