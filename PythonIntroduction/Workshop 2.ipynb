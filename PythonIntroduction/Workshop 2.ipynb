{
 "cells": [
  {
   "cell_type": "markdown",
   "metadata": {},
   "source": [
    "# Workshop 2#\n",
    "\n",
    "In the first workshop we went over basic data types and basic operations using these. In this workshop we will cover control structures that allows us to tell the computer to perform particular operations based on results.\n",
    "\n",
    "## Boolean ##\n",
    "\n",
    "One data type not yet mentioned is boolean. This data type takes the value of either true or false. This ties into if, else statements as they use logic, this will be further expanded upon below. We can use boolean with *and* aswell as *or* to perform logic operations. \n",
    "\n",
    "An example of boolean:"
   ]
  },
  {
   "cell_type": "code",
   "execution_count": 7,
   "metadata": {},
   "outputs": [
    {
     "name": "stdout",
     "output_type": "stream",
     "text": [
      "True\n",
      "False\n",
      "False\n",
      "True\n"
     ]
    }
   ],
   "source": [
    "x = True\n",
    "y = False\n",
    "\n",
    "print(x)\n",
    "print(y)\n",
    "print(x and y)\n",
    "print(x or y)"
   ]
  },
  {
   "cell_type": "markdown",
   "metadata": {},
   "source": [
    "As you can see we can perform simple logic operations using boolean data and the *and* and *or* operators. These will help us when using if, else statements."
   ]
  },
  {
   "cell_type": "markdown",
   "metadata": {},
   "source": [
    "## if, else Statements ##\n",
    "\n",
    "If statements allow us to tell the computer \"*if* a condition has been met, then do an operation\".\n",
    "\n",
    "We can also take this further with *elif*. Which allows us to use an if statement then after that use an elif which tells the computer,\n",
    "\"If the first condition is not met, but this next condition is met, perform this operation.\"\n",
    "\n",
    "Lastly, we have access to *else*. This allows us to tell the computer if none of the condition of the if of elif statements have been met, then the computer will perform this operation.\n",
    "\n",
    "To get a better understanding of how this is implemented an example is shown below.\n",
    "\n",
    "if condition1:\n",
    "    perform operation 1\n",
    "    \n",
    "elif condition2:\n",
    "    perform operation 2\n",
    "    \n",
    "else:\n",
    "    perform operation 3\n",
    "    \n",
    "Where it checks each condition from top to bottom and only executes the operation if that condition is true. If that condition is true and it performs that operation it will stop checking the other conditions.\n",
    "\n",
    "### Example 1 ###"
   ]
  },
  {
   "cell_type": "code",
   "execution_count": 8,
   "metadata": {},
   "outputs": [
    {
     "name": "stdout",
     "output_type": "stream",
     "text": [
      "It is true!!!\n"
     ]
    }
   ],
   "source": [
    "if True:\n",
    "    print('It is true!!!')"
   ]
  },
  {
   "cell_type": "markdown",
   "metadata": {},
   "source": [
    "Now lets add an else."
   ]
  },
  {
   "cell_type": "code",
   "execution_count": 9,
   "metadata": {},
   "outputs": [
    {
     "name": "stdout",
     "output_type": "stream",
     "text": [
      "x is not true!\n"
     ]
    }
   ],
   "source": [
    "x = False\n",
    "\n",
    "if x:\n",
    "    print('x is true!')\n",
    "else:\n",
    "    print('x is not true!')"
   ]
  },
  {
   "cell_type": "markdown",
   "metadata": {},
   "source": [
    "### Multiple Branches ###\n",
    "\n",
    "To further understand how these statements work we will need to use *elif* aswell. In python indentation is used to let us and python know what code is associated with which if statement. This is show in the example below:"
   ]
  },
  {
   "cell_type": "code",
   "execution_count": 10,
   "metadata": {},
   "outputs": [
    {
     "name": "stdout",
     "output_type": "stream",
     "text": [
      "You are using python.\n"
     ]
    }
   ],
   "source": [
    "string = \"Python\"\n",
    "\n",
    "if string == \"Python\":\n",
    "    print(\"You are using python.\")\n",
    "elif string == \"Java\":\n",
    "    print(\"You are using Java.\")\n",
    "else:\n",
    "    print(\"What language are you using?\")"
   ]
  },
  {
   "cell_type": "markdown",
   "metadata": {},
   "source": [
    "Note how each nested statements are checked until the statement evaluates True, which causes the nested code below it to run. You should also note that you can put as many elif statements you want before you finish it with an else. \n",
    "\n",
    "In python there are no *switch* statements like in other languages. So elif must be used instead.\n",
    "\n",
    "A few more examples of if statements will be shown below:"
   ]
  },
  {
   "cell_type": "code",
   "execution_count": 11,
   "metadata": {},
   "outputs": [
    {
     "name": "stdout",
     "output_type": "stream",
     "text": [
      "Yes I could have just printed x.\n"
     ]
    }
   ],
   "source": [
    "x = 10\n",
    "\n",
    "if x+2 == 4:\n",
    "    print(\"x is 2\")\n",
    "elif x+2== 5:\n",
    "    print(\"x is 3\")\n",
    "elif x+2 == 6:\n",
    "    print(\"x is 4\")\n",
    "else:\n",
    "    print(\"Yes I could have just printed x.\")"
   ]
  },
  {
   "cell_type": "code",
   "execution_count": 14,
   "metadata": {},
   "outputs": [
    {
     "name": "stdout",
     "output_type": "stream",
     "text": [
      "Hello Max\n"
     ]
    }
   ],
   "source": [
    "person = \"Max\"\n",
    "\n",
    "if person == \"George\":\n",
    "    print(\"Welcome George\")\n",
    "elif person == \"Max\":\n",
    "    print(\"Hello Max\")\n",
    "else:\n",
    "    print(\"Hello, what is your name?\")"
   ]
  },
  {
   "cell_type": "markdown",
   "metadata": {},
   "source": [
    "### Indentation ###\n",
    "\n",
    "It is important to under stand how indentation works in python to maintain the structure and order of your code. So make sure that are the colons in the if statement the next line must be indented so that it will be executed if the condition has been met.\n",
    "\n",
    "## for Loops ##\n",
    "\n",
    "A for loop acts as an iterator in Python; it goes through items that are in a sequence or any other interable item. For example if given a list it will iterate through each item in the list.\n",
    "\n",
    "The general format for a for loop in Python is:\n",
    "    \n",
    "    for item in object:\n",
    "        perform operation\n",
    "        \n",
    "The name used for the item can be whatever you want it to be, this allows us to increase readability of our code. This item name can then be referenced inside your loop, for example if you wanted to use if statements to then perform checks. \n",
    "\n",
    "Let's continue with some examples of for loops:\n",
    "\n",
    "### Example 1###\n",
    "\n",
    "Iterating through a list"
   ]
  },
  {
   "cell_type": "code",
   "execution_count": 15,
   "metadata": {},
   "outputs": [
    {
     "name": "stdout",
     "output_type": "stream",
     "text": [
      "1\n",
      "2\n",
      "3\n",
      "4\n",
      "5\n",
      "6\n",
      "7\n",
      "8\n",
      "9\n",
      "10\n"
     ]
    }
   ],
   "source": [
    "list1 = [1,2,3,4,5,6,7,8,9,10]\n",
    "\n",
    "for num in list1:\n",
    "    print(num)"
   ]
  },
  {
   "cell_type": "markdown",
   "metadata": {},
   "source": [
    "Now we can try adding an if statement.\n",
    "\n",
    "### Example 2###\n",
    "\n",
    "Lets now print only the even numbers from that list:"
   ]
  },
  {
   "cell_type": "code",
   "execution_count": 16,
   "metadata": {},
   "outputs": [
    {
     "name": "stdout",
     "output_type": "stream",
     "text": [
      "2\n",
      "4\n",
      "6\n",
      "8\n",
      "10\n"
     ]
    }
   ],
   "source": [
    "for num in list1:\n",
    "    if num % 2 == 0:\n",
    "        print(num)"
   ]
  },
  {
   "cell_type": "markdown",
   "metadata": {},
   "source": [
    "Now we have used an if statement aswell, however what is the % doing? That is modulo. It allows us to get the remained in a division and uses the % symbol. (This was mentioned in the previous workshop however, so go and have another look at that if you need.) For example:"
   ]
  },
  {
   "cell_type": "code",
   "execution_count": 17,
   "metadata": {},
   "outputs": [
    {
     "data": {
      "text/plain": [
       "2"
      ]
     },
     "execution_count": 17,
     "metadata": {},
     "output_type": "execute_result"
    }
   ],
   "source": [
    "17 % 5"
   ]
  },
  {
   "cell_type": "markdown",
   "metadata": {},
   "source": [
    "This shows that 17 divided by 5 gives a remainder of 2. Another example is shown below:"
   ]
  },
  {
   "cell_type": "code",
   "execution_count": 18,
   "metadata": {},
   "outputs": [
    {
     "data": {
      "text/plain": [
       "1"
      ]
     },
     "execution_count": 18,
     "metadata": {},
     "output_type": "execute_result"
    }
   ],
   "source": [
    "# 3 remainder 1\n",
    "10 % 3"
   ]
  },
  {
   "cell_type": "markdown",
   "metadata": {},
   "source": [
    "Back to for loops now.\n",
    "\n",
    "### Example 3###\n",
    "\n",
    "Another common idea during a for loop is to keep a counter on some value. For example, let's create a for loop that sums up the list:"
   ]
  },
  {
   "cell_type": "code",
   "execution_count": 20,
   "metadata": {},
   "outputs": [
    {
     "name": "stdout",
     "output_type": "stream",
     "text": [
      "55\n"
     ]
    }
   ],
   "source": [
    "#Start sum at 0\n",
    "listSum = 0\n",
    "\n",
    "for num in list1:\n",
    "    listSum = listSum + num\n",
    "\n",
    "print(listSum)"
   ]
  },
  {
   "cell_type": "markdown",
   "metadata": {},
   "source": [
    "However we can replace the variable = variable + constant with variable += constant. So let's try that:"
   ]
  },
  {
   "cell_type": "code",
   "execution_count": 21,
   "metadata": {},
   "outputs": [
    {
     "name": "stdout",
     "output_type": "stream",
     "text": [
      "55\n"
     ]
    }
   ],
   "source": [
    "#Start sum at 0\n",
    "listSum = 0\n",
    "\n",
    "for num in list1:\n",
    "    listSum += num\n",
    "\n",
    "print(listSum)"
   ]
  },
  {
   "cell_type": "markdown",
   "metadata": {},
   "source": [
    "### Example 4###\n",
    "\n",
    "We've used for loops with lists, now let's try string. Remember strings are a sequence so when we iterate through them we will be accessing each item in that string."
   ]
  },
  {
   "cell_type": "code",
   "execution_count": 22,
   "metadata": {},
   "outputs": [
    {
     "name": "stdout",
     "output_type": "stream",
     "text": [
      "S\n",
      "o\n",
      "m\n",
      "e\n",
      " \n",
      "s\n",
      "t\n",
      "r\n",
      "i\n",
      "n\n",
      "g\n"
     ]
    }
   ],
   "source": [
    "for letter in \"Some string\":\n",
    "    print(letter)"
   ]
  },
  {
   "cell_type": "markdown",
   "metadata": {},
   "source": [
    "### Example 5 ###\n",
    "\n",
    "If we want the list index we can use a counter that counts what iteration we are up to in the for loop or track what index of the list is. We can use the range function. This returns a list to the one less than the value we entered. For example; if we wrote range(3) it would return [0, 1, 2]. This allows the item to have the value of the index of the list. We can use this to access certain indexes of the list:"
   ]
  },
  {
   "cell_type": "code",
   "execution_count": 26,
   "metadata": {},
   "outputs": [
    {
     "name": "stdout",
     "output_type": "stream",
     "text": [
      "1\n",
      "2\n",
      "3\n",
      "4\n",
      "5\n",
      "6\n",
      "7\n",
      "8\n",
      "9\n",
      "10\n"
     ]
    }
   ],
   "source": [
    "for i in range(len(list1)):\n",
    "    print(list1[i])"
   ]
  },
  {
   "cell_type": "markdown",
   "metadata": {},
   "source": [
    "As you can see we also used the len function. This allows us to get the length of the list so we can create a list from 0 to its length - 1 allowing us the ability to access each item in the list during its correspronding iteration. Hence, on the 2nd iteration when i = 1 we can access the second item. Remember array indexxing start at 0 so for the first element i would be 0."
   ]
  },
  {
   "cell_type": "markdown",
   "metadata": {},
   "source": [
    "### Example 6 ###\n",
    "\n",
    "If you remember last workshop we touched on lists inside lists or two dimensional lists. To access each element of these we require two for loops. This can be done as shown below:"
   ]
  },
  {
   "cell_type": "code",
   "execution_count": 27,
   "metadata": {},
   "outputs": [
    {
     "name": "stdout",
     "output_type": "stream",
     "text": [
      "1\n",
      "2\n",
      "3\n",
      "4\n",
      "5\n",
      "6\n"
     ]
    }
   ],
   "source": [
    "list2 = [[1,2,3],[4,5,6]]\n",
    "\n",
    "for row in list2:\n",
    "    for val in row:\n",
    "        print(val)"
   ]
  },
  {
   "cell_type": "markdown",
   "metadata": {},
   "source": [
    "This can also be done the way discussed in example 5:"
   ]
  },
  {
   "cell_type": "code",
   "execution_count": 28,
   "metadata": {},
   "outputs": [
    {
     "name": "stdout",
     "output_type": "stream",
     "text": [
      "1\n",
      "2\n",
      "3\n",
      "4\n",
      "5\n",
      "6\n"
     ]
    }
   ],
   "source": [
    "for i in range(len(list2)):\n",
    "    for j in range(len(list2[i])):\n",
    "        print(list2[i][j])"
   ]
  },
  {
   "cell_type": "markdown",
   "metadata": {},
   "source": [
    "As you can see for loops allow us to write more condensed code as we can perform operations over whole lists without having to repeat code and can instead be written in a loop. We also have another loop we can use. A while loop.\n",
    "\n",
    "## while Loops ##\n",
    "\n",
    "\n"
   ]
  },
  {
   "cell_type": "code",
   "execution_count": null,
   "metadata": {},
   "outputs": [],
   "source": []
  }
 ],
 "metadata": {
  "kernelspec": {
   "display_name": "Python 3",
   "language": "python",
   "name": "python3"
  },
  "language_info": {
   "codemirror_mode": {
    "name": "ipython",
    "version": 3
   },
   "file_extension": ".py",
   "mimetype": "text/x-python",
   "name": "python",
   "nbconvert_exporter": "python",
   "pygments_lexer": "ipython3",
   "version": "3.8.2"
  }
 },
 "nbformat": 4,
 "nbformat_minor": 4
}
